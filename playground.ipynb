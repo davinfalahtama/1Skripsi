{
 "cells": [
  {
   "cell_type": "code",
   "execution_count": 1,
   "metadata": {},
   "outputs": [],
   "source": [
    "import streamlit as st\n",
    "from PyPDF2 import PdfReader\n",
    "from langchain.text_splitter import RecursiveCharacterTextSplitter\n",
    "import os\n",
    "from langchain_google_genai import GoogleGenerativeAIEmbeddings\n",
    "import google.generativeai as genai\n",
    "from langchain.vectorstores import FAISS\n",
    "from langchain_google_genai import ChatGoogleGenerativeAI\n",
    "from langchain.chains.question_answering import load_qa_chain\n",
    "from langchain.prompts import PromptTemplate\n",
    "from dotenv import load_dotenv\n",
    "import random\n",
    "import time\n",
    "from langchain_core.prompts import ChatPromptTemplate, MessagesPlaceholder\n",
    "import pandas as pd\n",
    "from langchain_core.messages import AIMessage, HumanMessage\n",
    "from langchain_core.output_parsers import StrOutputParser\n",
    "from langchain_core.runnables import RunnablePassthrough"
   ]
  },
  {
   "cell_type": "code",
   "execution_count": 4,
   "metadata": {},
   "outputs": [
    {
     "name": "stdout",
     "output_type": "stream",
     "text": [
      "Total number of words in the PDF: 1118\n"
     ]
    }
   ],
   "source": [
    "from PyPDF2 import PdfReader\n",
    "\n",
    "def get_pdf_text(pdf_path):\n",
    "    text = \"\"\n",
    "    if pdf_path.endswith('.pdf'):\n",
    "        # Process PDF file\n",
    "        pdf_reader = PdfReader(pdf_path)\n",
    "        for page in pdf_reader.pages:\n",
    "            text += page.extract_text() or \"\"\n",
    "    return text\n",
    "\n",
    "def count_words_in_text(text):\n",
    "    words = text.split()\n",
    "    return len(words)\n",
    "\n",
    "# Read the text from the PDF\n",
    "pdf_text = get_pdf_text(\"docs/Panduan Penerimaan Mahasiswa .pdf\")\n",
    "\n",
    "# Count the words\n",
    "word_count = count_words_in_text(pdf_text)\n",
    "print(f\"Total number of words in the PDF: {word_count}\")"
   ]
  },
  {
   "cell_type": "code",
   "execution_count": 5,
   "metadata": {},
   "outputs": [
    {
     "name": "stdout",
     "output_type": "stream",
     "text": [
      "Panduan Penerimaan Mahasiswa Baru\n",
      "Pemasaran dan admisi ITPLNLantai 2 Mezzanine SelatanMenara PLN Jl. Lingkar Luar Barat Duri KosambiCengkareng, Jakarta Barat 11750Telp: 021-5440342 ext 2204\n",
      "Sambutan\n",
      "INSTITUT TEKNOLOGI PLNYour Future Starts Today!\n",
      "INTERNASIONAL, MODEREN, MANDIRI, UNGGULKamiatasnamaInstitutTeknologiPLN(ITPLN)mengucapkanselamatdatangdanterimakasihataskepercayaansaudara/itelahmemilihInstitutTeknologiPLNsebagaisalahsatutujuanuntukmelanjutkanstudi.BukupanduaninimembantusaudaradalammelakukanprosespendaftarandanregistrasiuntukmenjadicalonmahasiswaInstitutTeknologiPLN.Secarasingkat,bukupanduaniniberisitentanginformasiumumdanpedomanyangmenyangkutpendaftaran,jalurpenerimaanmahasiswabaru,ketentuanregistrasi,ketentuanpengundurandiri.InstitutTeknologiPLNakanberkomitmenuntukmengantarkanmahasiswamenjadiinsanakademikyangunggul,moderndanMandiridalambidangTeknolgiyangberwawasanlingkungansesuaidenganVisiITPLNmelaluiprosespendidikanyangdilaksanakan.Sekiandan TerimaKasih.RektorITPLNProf. Dr. Ir. IwaGarniwaM K, MT\n",
      "Daftar Isi\n",
      "INTERNASIONAL, MODEREN, MANDIRI, UNGGUL\n",
      "KSATRIAPETIRYour Future Starts Today!•Informasi Umum ……………………………………………...•Syarat Pendaftaran …………………………………………..•Fakultas dan Program Studi ………………………………..•Prosedur Pendaftaran ……………………………………….•Tutorial Pendaftaran …………………….…………………...•Cek Kelulusan ……..…………………….…………………...•Program Beasiswa …………………………………………...•FAQ …………………………………………………………….256891011121INFORMASI UMUM1.Informasi penerimaan mahasiswa baru Institut Teknologi Perusahaan Listrik Negara / Institut Teknologi PL (ITPLN) dapat di akses melalui:ØWebsite utama ITPLN https://itpln.ac.idØWebsite penerimaan mahasiswa baru https://infopmb.itpln.ac.id2.Email resmi penerimaan mahasiswa baru infopmb@itpln.ac.id3.Whatsapp resmi ITPLN merupakan Business Account yang sudah terferikasi dari Meta (Centang hijau) berfungsi untuk memberikan informasi kepada calon mahasiswa dan Sivitas Akademika ITPLN dengan nama Institut Teknologi PLN4.Pedaftaran Mahasiswa Baru melalui https://infopmb.itpln.ac.id/daftar5.Informasi Biaya kuliah diakses melalui https://infopmb.itpln.ac.id/biaya6.Kelas Ektensi merupakan program Penerimaan lanjut studi D-III ke jenjang Strata 17.Kelas Karyawan merupakan program untuk warga Negara Indonesia yang sudah bekerja ingin melanjutkan studi baik dari SMA/SMK/MA/PKBM atau yang sudah lulus D-III dan Sarjana yang ingin melanjutkan ke jenjang Pendidikan lebih tinggi.8.Beasiswa terdiri dari Beasiswa Pendidikan Penuh, Parsial dan mahasiswa aktif.9.Seleksi Penerimaan Mahasiswa baru ITPLN bisa mengunakan jalur Seleksi Tes Potensi Akademik (TPA), Jalur Raport, Jalur Prestasi \n",
      "INSTITUT TEKNOLOGI PLNYour Future Starts Today!\n",
      "INTERNASIONAL, MODEREN, MANDIRI, UNGGUL\n",
      "2SyaratPendaftaranPersyaratanMendaftarmenjadiMahasiswadi ITPLN :Program PascaSarjana: 1.Lulus dariPerguruanTinggi dalamNegeri yang terdatadi PangkalanData Pendidikan Tinggi (PDDIKTI) pada lamanhttps://pddikti.kemdikbud.go.id/2.Lulus dariPeguruanTinggi LuarNegeri yang diakuioleh KementrianPendidikan Kebudayaandan Pendidikan Tinggi pada lamanhttps://ijazahln.kemdikbud.go.id/ijazahln/pencarian/pencarian-pt.htmldan ijazah harusdisetarakanmelaluilamanhttps://ijazahln.kemdikbud.go.id/ijazahln/3.Fotokopi/Scan KartuKeluarga(KK)4.Fotokopi/Scan KTP / Passport / KITAS5.Fotokopi/Scan LegalisirIjasahdan TranskripNilai bisadiambildarilamanSistemVerifikasiIjasahSecaraElektronik(SIVIL) https://ijazah.kemdikbud.go.id/6.Surat KeteranganSehat, BebasNarkobadan ButaWarna7.Surat BerkelakuanBaikdarikepolisian.8.NomorSelulersebaiknyasamadengannomorWhatsapp(WA) dan email Aktif\n",
      "INTERNASIONAL, MODEREN, MANDIRI, UNGGUL\n",
      "KSATRIAPETIRYour Future Starts Today!3Program Diploma III dan Sarjana:1.LulusanSMA / SMK / MA / PaketC  dalamNegeri2.LulusanSekolah menengahAtas LuarNegeri harusdisetarakanpada KementrianPendidikan pada lamanhttps://e-layanan.dikdasmen.kemdikbud.go.id/elayanan2019/home#hero3.Fotokopi/Scan Ijasah4.Fotokopi/Scan RaportSemester 1 s.d5 5.Fotokopi/Scan KartuKeluarga(KK)6.Fotokopi/Scan KTP / Passport / KITAS apabilabelummemilikiKTP cukupkartukeluarga7.Data NomorIndukSiswaNasional (NISN)8.Surat KeteranganSehat, BebasNarkobadan ButaWarna9.Surat BerkelakuanBaikdarikepolisian.10.NomorSelulersebaiknyasamadengannomorWhatsapp(WA) dan email Aktif\n",
      "INSTITUT TEKNOLOGI PLNYour Future Starts Today!\n",
      "INTERNASIONAL, MODEREN, MANDIRI, UNGGULSyaratPendaftaranPersyaratanMendaftarmenjadiMahasiswadi ITPLN :\n",
      "4Program KelasKaryawanEktensiD-III keS1 : 1.Lulus dariPerguruanTinggi dalamNegeri yang terdatadi PangkalanData Pendidikan Tinggi (PDDIKTI) pada lamanhttps://pddikti.kemdikbud.go.id/2.Lulus dariPeguruanTinggi LuarNegeri yang diakuioleh KementrianPendidikan Kebudayaandan Pendidikan Tinggi pada lamanhttps://ijazahln.kemdikbud.go.id/ijazahln/pencarian/pencarian-pt.htmldan ijazah harusdisetarakanmelaluilamanhttps://ijazahln.kemdikbud.go.id/ijazahln/3.Program Studiyang akandiambilharuslinier (contoh: apabiladariD-III lanjutkeS1 ElektromakaD-III haruslinier denganS1 nya)4.PengakuanSistemKreditSemester (SKS)/ Konversimaksimal80 SKS5.Fotokopi/Scan KartuKeluarga(KK)6.Fotokopi/Scan KTP / Passport / KITAS7.Fotokopi/Scan LegalisirIjasahdan TranskripNilai bisadiambildarilamanSistemVerifikasiIjasahSecaraElektronik(SIVIL) https://ijazah.kemdikbud.go.id/8.NomorSelulersebaiknyasamadengannomorWhatsapp(WA) dan email Aktif\n",
      "INTERNASIONAL, MODEREN, MANDIRI, UNGGUL\n",
      "KSATRIAPETIRYour Future Starts Today!SyaratPendaftaranPersyaratanMendaftarmenjadiMahasiswadi ITPLN :\n",
      "5INSTITUT TEKNOLOGI PLNYour Future Starts Today!\n",
      "INTERNASIONAL, MODEREN, MANDIRI, UNGGULFakultasdan Program Studi\n",
      "6FakultasProgram StudiLaman InformasiFakultas Ketenagalistrikan dan Energi TerbarukanS2 Teknik Elektrohttps://infopmb.itpln.ac.id/profil-magister-teknik-elektro-itpln/S1 Teknik Elektrohttps://infopmb.itpln.ac.id/s1-teknik-elektro/S1 Teknik Tenaga Listrikhttps://infopmb.itpln.ac.id/s1-teknik-tenaga-listrik/S1 Teknik Sistem Energihttps://infopmb.itpln.ac.id/s1-teknik-sistem-energi/D3 Teknologi Listrikhttps://infopmb.itpln.ac.id/d3-teknologi-listrik/INTERNASIONAL, MODEREN, MANDIRI, UNGGUL\n",
      "KSATRIAPETIRYour Future Starts Today!7FakultasProgram StudiLaman InformasiFakultas Teknologi dan Bisnis EnergiS1 Teknik Mesinhttps://infopmb.itpln.ac.id/s1-teknik-mesin/S1 Bisnis Energi (Kewirausahaan)https://infopmb.itpln.ac.id/s1-bisnis-energi/S1 Teknik Industrihttps://infopmb.itpln.ac.id/s1-teknik-industri/D3 Teknik Mesinhttps://infopmb.itpln.ac.id/d3-teknik-mesin/Fakultas Teknologi Infrastruktur dan KewilayahanS1 Teknik Sipilhttps://infopmb.itpln.ac.id/s1-teknik-sipil/S1 GeografiFakultas Telematika EnergiS1 Informatikahttps://infopmb.itpln.ac.id/s1-teknik-informatika/S1 Sistem Informasihttps://infopmb.itpln.ac.id/s1-sistem-informasi/Fakultasdan Program StudiProsedurPendaftaranProsedur Pendaftaran Mahasiswa Baru ITPLN:1.Masuk ke laman https://infopmb.itpln.ac.id/daftar2.Mengisi Form pendaftaran awala.Verifikasi Akun melalui WA, Email atau SMSb.Masuk Kembali ke laman pada point 1c.Mengisi form kuisioner3.Pilih Program :a.Program Regulerb.Kelas Karyawan4.Mengisi biodata dan Upload berkas5.Pilih gelombang Aktif6.Melakukan Pembayaran dan Cetak Kartu Peserta.\n",
      "INSTITUT TEKNOLOGI PLNYour Future Starts Today!\n",
      "INTERNASIONAL, MODEREN, MANDIRI, UNGGUL\n",
      "8Tutorial Pendaftaran\n",
      "1. Pendaftaran2. Cara Mengisi Biodata Diri \n",
      "3.Biodata Sekolah\n",
      "4. Biodata Orangtua\n",
      "5. Upload Berkas\n",
      "6. Daftar Gelombang\n",
      "7. Pembayaran\n",
      "INTERNASIONAL, MODEREN, MANDIRI, UNGGUL\n",
      "KSATRIAPETIRYour Future Starts Today!9Cek KelulusanUntukcekKelulusanada2carayaitu:1.CalonMahasiswamasukkelamananjungancalonmahasiswapadalamanhttps://infomb.itpln.ac.id/daftardenganmemasukanusernamedanpassword2.OrangtuaSiswaatauwalibisamelaluilamanhttps://infopmb.itpln.ac.id/daftar/verification/\n",
      "INSTITUT TEKNOLOGI PLNYour Future Starts Today!\n",
      "INTERNASIONAL, MODEREN, MANDIRI, UNGGUL\n",
      "10\n",
      "Program Beasiswa\n",
      "INSTITUT TEKNOLOGI PLNYour Future Starts Today!\n",
      "INTERNASIONAL, MODEREN, MANDIRI, UNGGUL\n",
      "11BeasiswaPendidikanPenuhMelaluiProgramSeleksi:ØAPERTIBUMNØQuipperScholarshipØBeasiswaPendidikanIndonesiaØBeasiswaKIP-KBeasiswaParsialMelaluiProgramSeleksi:ØQuipperScholarshipØSeleksiPenerimaanPrestasiAkademik,OrganisasidanEktrakurikuler(BeasiswainimelihatprestasicalonmahasiswatingkatnasionaldaninternasionalsertaprestasidiSekolahbeasiswauntukkomponenBP3)ØBeasiswaBP3untukanakkaryawanHoldingPLNØBeasiswaBP3anakkaryawanAfiliasiYPK-PLNØBeasiswaBP3saudarakandungAlumniØBeasiswaBP3saudarakandungmahasiswaaktif.ØBeasiswaPendidikanuntukanakDosendanKaryawanITPLNBeasiswaParsialMahasiswaAktif:Beasiswainidilaksanakanpadasemester3melihatdarihasilPrestasibaikakademikdanNonAkademik\n",
      "Your Future Starts Today!\n",
      "Informasi BeasiswaFAQ\n",
      "INTERNASIONAL, MODEREN, MANDIRI, UNGGUL\n",
      "KSATRIAPETIRYour Future Starts Today!\n",
      "Bagaimana cara mendaftar di ITPLN ?\n",
      "Untuk mendaftar menjadi calon mahasisa di ITPLN bisa langsung ke https://infopmb.itpln.ac.id\n",
      "Apakah biaya kuliah di ITPLN sudah termasuk biaya praktikum ?\n",
      "Biaya kuliah di ITPLN sudah termasuk biaya praktikum dan juga sertifikasi kompetensi\n",
      "Fasilitas apa saja yang di dapat oleh calon mahasiswa ?\n",
      "Sudah termasuk biaya praktikum dan 3 sertifikat kompetensi, Fasilitas Gratis Akses Internet Seluruh Indonesia menggunakan WIFI-ID, Software berlisensi, E-mail dengan @itpln.ac.id dan penyimpanan data di Cloud sebesar 5TB dan fasilitas IT lainnya, Sudah Termasuk Biaya Pembuatan Kartu Tanda Mahasiswa (KTM) dan Rekening Bank.Sudah termasuk biaya kegiatan Mahasiswa Baru “Karisma” (Kegiatan Mahasiswa Baru pada saat kuliah perdana)12FAQ\n",
      "INTERNASIONAL, MODEREN, MANDIRI, UNGGUL\n",
      "KSATRIAPETIRYour Future Starts Today!\n",
      "apakah mahasiswa baru mendapatkan laptop ?\n",
      "Mulai Tahun Akademik 2022/2023 mahasiswa ITPLN sudah tidak medapatkan laptop \n",
      "Apakah bisa melakukan pembayaran langsung ke kampus ?\n",
      "untuk semua pembayaran ITPLN menggunakan multipayment, kami tidak menerima uang tunai\n",
      "apakah di ITPLN memliki beasiswa ?\n",
      "ITPLN ada beragam beasiswa yang tersedia, silakan cek pada link berikut https://infopmb.itpln.ac.id/beasiswa13FAQ\n",
      "INTERNASIONAL, MODEREN, MANDIRI, UNGGUL\n",
      "KSATRIAPETIRYour Future Starts Today!\n",
      "apakah bisa pindah program studi bagaimana caranya?\n",
      "untuk pindah progam studi bisa dilakukan apabila belum dilaksanakan seleksi kelulusan , calon mahasiswa bisa mengirimkan email perpindahan melalui infopmb@itpln.ac.id paling cepat H-7 sebelum pelaksanaan seleksi. Apabila permintaan pindah prodi lewat dariH-7 sebelum seleksi calon mahasiswa wajib membeli formulir baru. \n",
      "Kapan program KIP-K di buka ?\n",
      "program KIP-K dibukan antara bulan Juni s.d juli hal ini juga tergantung dari kementrian pendidikan dan kebudayaan memberikan kuota\n",
      "Bagaimana syarat untuk KIP-K ?\n",
      "Syarat KIP-K bisa di lihat pada link: https://infopmb.itpln.ac.id/beasiswa/beasiswa-kipk/14FAQ\n",
      "INTERNASIONAL, MODEREN, MANDIRI, UNGGUL\n",
      "KSATRIAPETIRYour Future Starts Today!\n",
      "Bagaimana saya mendapatkan informasi lengkap tentang prodi ?\n",
      "Informasi terkait prodi dapat dilihat pada halaman berikut: https://infopmb.itpln.ac.id/program-studi-itpln/kemudian pilih prodi yang diinginkan\n",
      "Apakah di ITPLN ada perpeloncoan ?\n",
      "Tidak ada, pada awal perkuliahan ada kegiatan namanya Pekan Penerimaan Mahasiswa (KARISMA) yang isinya kegiatan tentang pengenalan kampus. Selain itu ada kegiatan bela negara yang bekerjasama dengan Tentara Nasional Indonesia (TNI)15\n",
      "Apakah pembayaran uang kuliah bisa di cicil ?\n",
      "Bisa, cicilan ada 2 jenis: 1) cicilan langsung, 2)cicilan partner. pelajari detilnya dilink inihttps://infopmb.itpln.ac.id/cicilanFAQ\n",
      "INTERNASIONAL, MODEREN, MANDIRI, UNGGUL\n",
      "KSATRIAPETIRYour Future Starts Today!\n",
      "Apakah ITPLN kampus ikatan dinas dan kampus negeri?\n",
      "KamikampusswastalangsungdibawahYPKPLN.BukankampusikatandinassepertiSTAN,STIS,IPDN,dllKamisamasepertikampusBUMNlainnya.pertamina/telkomdll.Jaditergantungpotensimahasiswanya,memangtidaksemuaakanlangsungkerjadiPT.PLNHolding.Namunkamimenjaminkompetensimahasiswaagarbisabersaingdengankampusternamalainnya.Karenasetiapmahasiswadibekalidenganminimal3kompetensiyangterfokuspadaindustridanjugaIT-PLNmemilikiprogrammagangBUMNbersertifikat.JadimahasiswapunyapeluanguntukberkembangdiBUMNataupunperusahaanyangadadiIndonesia.\n",
      "Apa AKREDITASI kampus dan prodi di ITPLN ?\n",
      "Untuk akreditasi kampus, silakan cek di link dibawah ini: https://infopmb.itpln.ac.id/akreditasi/16FAQ\n",
      "INTERNASIONAL, MODEREN, MANDIRI, UNGGUL\n",
      "KSATRIAPETIRYour Future Starts Today!\n",
      "Bagaimana cara untuk melihat PENGUMUMAN KELULUSAN\n",
      "Untuk melihat hasil kelulusan, Anda bisa mengunjungi halaman pengumuman setelah login di web infopmb seperti pada gambar diatas. Atau cara lainnya, bisa kamu cek di link berikut ini dengan memasukan nomor registrasi Anda. https://infopmb.itpln.ac.id/daftar/verification/\n",
      "ApakahmasihadaGELOMBANG PENDAFTARAN YANG AKTIF ?\n",
      "UntukmelihatGelombangPendaftaranyang masidhdibukabisalihatpada lamanhttps://infopmb.itpln.ac.id/gelombang-pendaftaran/\n",
      "Dimana LOKASI KAMPUS ITPLN ?\n",
      "Lokasi kampus kami di Menara PLN, Jl. Lkr. Luar Barat, RT.1/RW.1, Duri Kosambi, Kecamatan Cengkareng, Kota Jakarta Barat, DaerahKhusus Ibukota Jakarta 11750, Silakan cek di maps: https://goo.gl/maps/22XM94ra45BtwBHo717FAQ\n",
      "INTERNASIONAL, MODEREN, MANDIRI, UNGGUL\n",
      "KSATRIAPETIRYour Future Starts Today!\n",
      "Apakah ITPLN menyediakan ASRAMA?\n",
      "SaatiniITPLNbelummenyediakansaranaasramauntukmahasiswanya,namunadabanyakkosanyangtersediadisekitarkamu.Cekinfotentangkosanyangdekatdengankampusdilinkdibawahinihttps://infopmb.itpln.ac.id/daftar-kos-dekat-itpln-harga-terjangkau-murah/Jikapadalinktersebuttidakada,bisamenghubungitimkamiuntukinfotentangkosterbaru.https://wa.me/6281929652414\n",
      "Apakah jurusan IPS/Sosial/Bahasa bisa kuliah di kampus ITPLN ?\n",
      "Berikut adalah daftar program studi/jurusan yang dapat dipilih untuk jurusan IPS/Bahasa:Teknik Informatika; Teknik Industri; Sistem Informasi; Bisnis Energi (Kewirausahaan); Teknik Sistem EnergiPenjelasan detilnya, dapat kamu cek di pada laman  https://infopmb.itpln.ac.id/program-studi-yang-bisa-dipilih-jurusan-ips/18INSTITUT TEKNOLOGI PLNYour Future Starts Today!\n",
      "INTERNASIONAL, MODEREN, MANDIRI, UNGGULYour Future Starts Today!\n",
      "Pemasaran dan admisi ITPLNLantai 2 Mezzanine SelatanMenara PLN Jl. Lingkar Luar Barat Duri KosambiCengkareng, Jakarta Barat 11750Telp: 021-5440342 ext 2204@gabungitpln\n",
      "Institut Teknologi PLN\n",
      "\n"
     ]
    }
   ],
   "source": [
    "print(pdf_text)"
   ]
  },
  {
   "cell_type": "code",
   "execution_count": 3,
   "metadata": {},
   "outputs": [
    {
     "name": "stdout",
     "output_type": "stream",
     "text": [
      "['Panduan Penerimaan Mahasiswa Baru\\nPemasaran dan admisi ITPLNLantai 2 Mezzanine SelatanMenara PLN Jl. Lingkar Luar Barat Duri KosambiCengkareng, Jakarta Barat 11750Telp: 021-5440342 ext 2204\\nSambutan\\nINSTITUT TEKNOLOGI PLNYour Future Starts Today!\\nINTERNASIONAL, MODEREN, MANDIRI, UNGGULKamiatasnamaInstitutTeknologiPLN(ITPLN)mengucapkanselamatdatangdanterimakasihataskepercayaansaudara/itelahmemilihInstitutTeknologiPLNsebagaisalahsatutujuanuntukmelanjutkanstudi.BukupanduaninimembantusaudaradalammelakukanprosespendaftarandanregistrasiuntukmenjadicalonmahasiswaInstitutTeknologiPLN.Secarasingkat,bukupanduaniniberisitentanginformasiumumdanpedomanyangmenyangkutpendaftaran,jalurpenerimaanmahasiswabaru,ketentuanregistrasi,ketentuanpengundurandiri.InstitutTeknologiPLNakanberkomitmenuntukmengantarkanmahasiswamenjadiinsanakademikyangunggul,moderndanMandiridalambidangTeknolgiyangberwawasanlingkungansesuaidenganVisiITPLNmelaluiprosespendidikanyangdilaksanakan.Sekiandan TerimaKasih.RektorITPLNProf. Dr. Ir. IwaGarniwaM K, MT\\nDaftar Isi\\nINTERNASIONAL, MODEREN, MANDIRI, UNGGUL\\nKSATRIAPETIRYour Future Starts Today!•Informasi Umum ……………………………………………...•Syarat Pendaftaran …………………………………………..•Fakultas dan Program Studi ………………………………..•Prosedur Pendaftaran ……………………………………….•Tutorial Pendaftaran …………………….…………………...•Cek Kelulusan ……..…………………….…………………...•Program Beasiswa …………………………………………...•FAQ …………………………………………………………….256891011121INFORMASI UMUM1.Informasi penerimaan mahasiswa baru Institut Teknologi Perusahaan Listrik Negara / Institut Teknologi PL (ITPLN) dapat di akses melalui:ØWebsite utama ITPLN https://itpln.ac.idØWebsite penerimaan mahasiswa baru https://infopmb.itpln.ac.id2.Email resmi penerimaan mahasiswa baru infopmb@itpln.ac.id3.Whatsapp resmi ITPLN merupakan Business Account yang sudah terferikasi dari Meta (Centang hijau) berfungsi untuk memberikan informasi kepada calon mahasiswa dan Sivitas Akademika ITPLN dengan nama Institut Teknologi PLN4.Pedaftaran Mahasiswa Baru melalui https://infopmb.itpln.ac.id/daftar5.Informasi Biaya kuliah diakses melalui https://infopmb.itpln.ac.id/biaya6.Kelas Ektensi merupakan program Penerimaan lanjut studi D-III ke jenjang Strata 17.Kelas Karyawan merupakan program untuk warga Negara Indonesia yang sudah bekerja ingin melanjutkan studi baik dari SMA/SMK/MA/PKBM atau yang sudah lulus D-III dan Sarjana yang ingin melanjutkan ke jenjang Pendidikan lebih tinggi.8.Beasiswa terdiri dari Beasiswa Pendidikan Penuh, Parsial dan mahasiswa aktif.9.Seleksi Penerimaan Mahasiswa baru ITPLN bisa mengunakan jalur Seleksi Tes Potensi Akademik (TPA), Jalur Raport, Jalur Prestasi \\nINSTITUT TEKNOLOGI PLNYour Future Starts Today!\\nINTERNASIONAL, MODEREN, MANDIRI, UNGGUL\\n2SyaratPendaftaranPersyaratanMendaftarmenjadiMahasiswadi ITPLN :Program PascaSarjana: 1.Lulus dariPerguruanTinggi dalamNegeri yang terdatadi PangkalanData Pendidikan Tinggi (PDDIKTI) pada lamanhttps://pddikti.kemdikbud.go.id/2.Lulus dariPeguruanTinggi LuarNegeri yang diakuioleh KementrianPendidikan Kebudayaandan Pendidikan Tinggi pada lamanhttps://ijazahln.kemdikbud.go.id/ijazahln/pencarian/pencarian-pt.htmldan ijazah harusdisetarakanmelaluilamanhttps://ijazahln.kemdikbud.go.id/ijazahln/3.Fotokopi/Scan KartuKeluarga(KK)4.Fotokopi/Scan KTP / Passport / KITAS5.Fotokopi/Scan LegalisirIjasahdan TranskripNilai bisadiambildarilamanSistemVerifikasiIjasahSecaraElektronik(SIVIL) https://ijazah.kemdikbud.go.id/6.Surat KeteranganSehat, BebasNarkobadan ButaWarna7.Surat BerkelakuanBaikdarikepolisian.8.NomorSelulersebaiknyasamadengannomorWhatsapp(WA) dan email Aktif\\nINTERNASIONAL, MODEREN, MANDIRI, UNGGUL\\nKSATRIAPETIRYour Future Starts Today!3Program Diploma III dan Sarjana:1.LulusanSMA / SMK / MA / PaketC  dalamNegeri2.LulusanSekolah menengahAtas LuarNegeri harusdisetarakanpada KementrianPendidikan pada lamanhttps://e-layanan.dikdasmen.kemdikbud.go.id/elayanan2019/home#hero3.Fotokopi/Scan Ijasah4.Fotokopi/Scan RaportSemester 1 s.d5 5.Fotokopi/Scan KartuKeluarga(KK)6.Fotokopi/Scan KTP / Passport / KITAS apabilabelummemilikiKTP cukupkartukeluarga7.Data NomorIndukSiswaNasional (NISN)8.Surat KeteranganSehat, BebasNarkobadan ButaWarna9.Surat BerkelakuanBaikdarikepolisian.10.NomorSelulersebaiknyasamadengannomorWhatsapp(WA) dan email Aktif\\nINSTITUT TEKNOLOGI PLNYour Future Starts Today!\\nINTERNASIONAL, MODEREN, MANDIRI, UNGGULSyaratPendaftaranPersyaratanMendaftarmenjadiMahasiswadi ITPLN :\\n4Program KelasKaryawanEktensiD-III keS1 : 1.Lulus dariPerguruanTinggi dalamNegeri yang terdatadi PangkalanData Pendidikan Tinggi (PDDIKTI) pada lamanhttps://pddikti.kemdikbud.go.id/2.Lulus dariPeguruanTinggi LuarNegeri yang diakuioleh KementrianPendidikan Kebudayaandan Pendidikan Tinggi pada lamanhttps://ijazahln.kemdikbud.go.id/ijazahln/pencarian/pencarian-pt.htmldan ijazah harusdisetarakanmelaluilamanhttps://ijazahln.kemdikbud.go.id/ijazahln/3.Program Studiyang akandiambilharuslinier (contoh: apabiladariD-III lanjutkeS1 ElektromakaD-III haruslinier denganS1 nya)4.PengakuanSistemKreditSemester (SKS)/ Konversimaksimal80 SKS5.Fotokopi/Scan KartuKeluarga(KK)6.Fotokopi/Scan KTP / Passport / KITAS7.Fotokopi/Scan LegalisirIjasahdan TranskripNilai bisadiambildarilamanSistemVerifikasiIjasahSecaraElektronik(SIVIL) https://ijazah.kemdikbud.go.id/8.NomorSelulersebaiknyasamadengannomorWhatsapp(WA) dan email Aktif\\nINTERNASIONAL, MODEREN, MANDIRI, UNGGUL\\nKSATRIAPETIRYour Future Starts Today!SyaratPendaftaranPersyaratanMendaftarmenjadiMahasiswadi ITPLN :\\n5INSTITUT TEKNOLOGI PLNYour Future Starts Today!\\nINTERNASIONAL, MODEREN, MANDIRI, UNGGULFakultasdan Program Studi\\n6FakultasProgram StudiLaman InformasiFakultas Ketenagalistrikan dan Energi TerbarukanS2 Teknik Elektrohttps://infopmb.itpln.ac.id/profil-magister-teknik-elektro-itpln/S1 Teknik Elektrohttps://infopmb.itpln.ac.id/s1-teknik-elektro/S1 Teknik Tenaga Listrikhttps://infopmb.itpln.ac.id/s1-teknik-tenaga-listrik/S1 Teknik Sistem Energihttps://infopmb.itpln.ac.id/s1-teknik-sistem-energi/D3 Teknologi Listrikhttps://infopmb.itpln.ac.id/d3-teknologi-listrik/INTERNASIONAL, MODEREN, MANDIRI, UNGGUL\\nKSATRIAPETIRYour Future Starts Today!7FakultasProgram StudiLaman InformasiFakultas Teknologi dan Bisnis EnergiS1 Teknik Mesinhttps://infopmb.itpln.ac.id/s1-teknik-mesin/S1 Bisnis Energi (Kewirausahaan)https://infopmb.itpln.ac.id/s1-bisnis-energi/S1 Teknik Industrihttps://infopmb.itpln.ac.id/s1-teknik-industri/D3 Teknik Mesinhttps://infopmb.itpln.ac.id/d3-teknik-mesin/Fakultas Teknologi Infrastruktur dan KewilayahanS1 Teknik Sipilhttps://infopmb.itpln.ac.id/s1-teknik-sipil/S1 GeografiFakultas Telematika EnergiS1 Informatikahttps://infopmb.itpln.ac.id/s1-teknik-informatika/S1 Sistem Informasihttps://infopmb.itpln.ac.id/s1-sistem-informasi/Fakultasdan Program StudiProsedurPendaftaranProsedur Pendaftaran Mahasiswa Baru ITPLN:1.Masuk ke laman https://infopmb.itpln.ac.id/daftar2.Mengisi Form pendaftaran awala.Verifikasi Akun melalui WA, Email atau SMSb.Masuk Kembali ke laman pada point 1c.Mengisi form kuisioner3.Pilih Program :a.Program Regulerb.Kelas Karyawan4.Mengisi biodata dan Upload berkas5.Pilih gelombang Aktif6.Melakukan Pembayaran dan Cetak Kartu Peserta.\\nINSTITUT TEKNOLOGI PLNYour Future Starts Today!\\nINTERNASIONAL, MODEREN, MANDIRI, UNGGUL\\n8Tutorial Pendaftaran\\n1. Pendaftaran2. Cara Mengisi Biodata Diri \\n3.Biodata Sekolah\\n4. Biodata Orangtua\\n5. Upload Berkas\\n6. Daftar Gelombang\\n7. Pembayaran\\nINTERNASIONAL, MODEREN, MANDIRI, UNGGUL\\nKSATRIAPETIRYour Future Starts Today!9Cek KelulusanUntukcekKelulusanada2carayaitu:1.CalonMahasiswamasukkelamananjungancalonmahasiswapadalamanhttps://infomb.itpln.ac.id/daftardenganmemasukanusernamedanpassword2.OrangtuaSiswaatauwalibisamelaluilamanhttps://infopmb.itpln.ac.id/daftar/verification/\\nINSTITUT TEKNOLOGI PLNYour Future Starts Today!\\nINTERNASIONAL, MODEREN, MANDIRI, UNGGUL\\n10\\nProgram Beasiswa\\nINSTITUT TEKNOLOGI PLNYour Future Starts Today!\\nINTERNASIONAL, MODEREN, MANDIRI, UNGGUL\\n11BeasiswaPendidikanPenuhMelaluiProgramSeleksi:ØAPERTIBUMNØQuipperScholarshipØBeasiswaPendidikanIndonesiaØBeasiswaKIP-KBeasiswaParsialMelaluiProgramSeleksi:ØQuipperScholarshipØSeleksiPenerimaanPrestasiAkademik,OrganisasidanEktrakurikuler(BeasiswainimelihatprestasicalonmahasiswatingkatnasionaldaninternasionalsertaprestasidiSekolahbeasiswauntukkomponenBP3)ØBeasiswaBP3untukanakkaryawanHoldingPLNØBeasiswaBP3anakkaryawanAfiliasiYPK-PLNØBeasiswaBP3saudarakandungAlumniØBeasiswaBP3saudarakandungmahasiswaaktif.ØBeasiswaPendidikanuntukanakDosendanKaryawanITPLNBeasiswaParsialMahasiswaAktif:Beasiswainidilaksanakanpadasemester3melihatdarihasilPrestasibaikakademikdanNonAkademik\\nYour Future Starts Today!\\nInformasi BeasiswaFAQ\\nINTERNASIONAL, MODEREN, MANDIRI, UNGGUL\\nKSATRIAPETIRYour Future Starts Today!\\nBagaimana cara mendaftar di ITPLN ?\\nUntuk mendaftar menjadi calon mahasisa di ITPLN bisa langsung ke https://infopmb.itpln.ac.id\\nApakah biaya kuliah di ITPLN sudah termasuk biaya praktikum ?\\nBiaya kuliah di ITPLN sudah termasuk biaya praktikum dan juga sertifikasi kompetensi\\nFasilitas apa saja yang di dapat oleh calon mahasiswa ?\\nSudah termasuk biaya praktikum dan 3 sertifikat kompetensi, Fasilitas Gratis Akses Internet Seluruh Indonesia menggunakan WIFI-ID, Software berlisensi, E-mail dengan @itpln.ac.id dan penyimpanan data di Cloud sebesar 5TB dan fasilitas IT lainnya, Sudah Termasuk Biaya Pembuatan Kartu Tanda Mahasiswa (KTM) dan Rekening Bank.Sudah termasuk biaya kegiatan Mahasiswa Baru “Karisma” (Kegiatan Mahasiswa Baru pada saat kuliah perdana)12FAQ\\nINTERNASIONAL, MODEREN, MANDIRI, UNGGUL\\nKSATRIAPETIRYour Future Starts Today!\\napakah mahasiswa baru mendapatkan laptop ?\\nMulai Tahun Akademik 2022/2023 mahasiswa ITPLN sudah tidak medapatkan laptop \\nApakah bisa melakukan pembayaran langsung ke kampus ?\\nuntuk semua pembayaran ITPLN menggunakan multipayment, kami tidak menerima uang tunai\\napakah di ITPLN memliki beasiswa ?\\nITPLN ada beragam beasiswa yang tersedia, silakan cek pada link berikut https://infopmb.itpln.ac.id/beasiswa13FAQ', 'Fasilitas apa saja yang di dapat oleh calon mahasiswa ?\\nSudah termasuk biaya praktikum dan 3 sertifikat kompetensi, Fasilitas Gratis Akses Internet Seluruh Indonesia menggunakan WIFI-ID, Software berlisensi, E-mail dengan @itpln.ac.id dan penyimpanan data di Cloud sebesar 5TB dan fasilitas IT lainnya, Sudah Termasuk Biaya Pembuatan Kartu Tanda Mahasiswa (KTM) dan Rekening Bank.Sudah termasuk biaya kegiatan Mahasiswa Baru “Karisma” (Kegiatan Mahasiswa Baru pada saat kuliah perdana)12FAQ\\nINTERNASIONAL, MODEREN, MANDIRI, UNGGUL\\nKSATRIAPETIRYour Future Starts Today!\\napakah mahasiswa baru mendapatkan laptop ?\\nMulai Tahun Akademik 2022/2023 mahasiswa ITPLN sudah tidak medapatkan laptop \\nApakah bisa melakukan pembayaran langsung ke kampus ?\\nuntuk semua pembayaran ITPLN menggunakan multipayment, kami tidak menerima uang tunai\\napakah di ITPLN memliki beasiswa ?\\nITPLN ada beragam beasiswa yang tersedia, silakan cek pada link berikut https://infopmb.itpln.ac.id/beasiswa13FAQ\\nINTERNASIONAL, MODEREN, MANDIRI, UNGGUL\\nKSATRIAPETIRYour Future Starts Today!\\napakah bisa pindah program studi bagaimana caranya?\\nuntuk pindah progam studi bisa dilakukan apabila belum dilaksanakan seleksi kelulusan , calon mahasiswa bisa mengirimkan email perpindahan melalui infopmb@itpln.ac.id paling cepat H-7 sebelum pelaksanaan seleksi. Apabila permintaan pindah prodi lewat dariH-7 sebelum seleksi calon mahasiswa wajib membeli formulir baru. \\nKapan program KIP-K di buka ?\\nprogram KIP-K dibukan antara bulan Juni s.d juli hal ini juga tergantung dari kementrian pendidikan dan kebudayaan memberikan kuota\\nBagaimana syarat untuk KIP-K ?\\nSyarat KIP-K bisa di lihat pada link: https://infopmb.itpln.ac.id/beasiswa/beasiswa-kipk/14FAQ\\nINTERNASIONAL, MODEREN, MANDIRI, UNGGUL\\nKSATRIAPETIRYour Future Starts Today!\\nBagaimana saya mendapatkan informasi lengkap tentang prodi ?\\nInformasi terkait prodi dapat dilihat pada halaman berikut: https://infopmb.itpln.ac.id/program-studi-itpln/kemudian pilih prodi yang diinginkan\\nApakah di ITPLN ada perpeloncoan ?\\nTidak ada, pada awal perkuliahan ada kegiatan namanya Pekan Penerimaan Mahasiswa (KARISMA) yang isinya kegiatan tentang pengenalan kampus. Selain itu ada kegiatan bela negara yang bekerjasama dengan Tentara Nasional Indonesia (TNI)15\\nApakah pembayaran uang kuliah bisa di cicil ?\\nBisa, cicilan ada 2 jenis: 1) cicilan langsung, 2)cicilan partner. pelajari detilnya dilink inihttps://infopmb.itpln.ac.id/cicilanFAQ\\nINTERNASIONAL, MODEREN, MANDIRI, UNGGUL\\nKSATRIAPETIRYour Future Starts Today!\\nApakah ITPLN kampus ikatan dinas dan kampus negeri?\\nKamikampusswastalangsungdibawahYPKPLN.BukankampusikatandinassepertiSTAN,STIS,IPDN,dllKamisamasepertikampusBUMNlainnya.pertamina/telkomdll.Jaditergantungpotensimahasiswanya,memangtidaksemuaakanlangsungkerjadiPT.PLNHolding.Namunkamimenjaminkompetensimahasiswaagarbisabersaingdengankampusternamalainnya.Karenasetiapmahasiswadibekalidenganminimal3kompetensiyangterfokuspadaindustridanjugaIT-PLNmemilikiprogrammagangBUMNbersertifikat.JadimahasiswapunyapeluanguntukberkembangdiBUMNataupunperusahaanyangadadiIndonesia.\\nApa AKREDITASI kampus dan prodi di ITPLN ?\\nUntuk akreditasi kampus, silakan cek di link dibawah ini: https://infopmb.itpln.ac.id/akreditasi/16FAQ\\nINTERNASIONAL, MODEREN, MANDIRI, UNGGUL\\nKSATRIAPETIRYour Future Starts Today!\\nBagaimana cara untuk melihat PENGUMUMAN KELULUSAN\\nUntuk melihat hasil kelulusan, Anda bisa mengunjungi halaman pengumuman setelah login di web infopmb seperti pada gambar diatas. Atau cara lainnya, bisa kamu cek di link berikut ini dengan memasukan nomor registrasi Anda. https://infopmb.itpln.ac.id/daftar/verification/\\nApakahmasihadaGELOMBANG PENDAFTARAN YANG AKTIF ?\\nUntukmelihatGelombangPendaftaranyang masidhdibukabisalihatpada lamanhttps://infopmb.itpln.ac.id/gelombang-pendaftaran/\\nDimana LOKASI KAMPUS ITPLN ?\\nLokasi kampus kami di Menara PLN, Jl. Lkr. Luar Barat, RT.1/RW.1, Duri Kosambi, Kecamatan Cengkareng, Kota Jakarta Barat, DaerahKhusus Ibukota Jakarta 11750, Silakan cek di maps: https://goo.gl/maps/22XM94ra45BtwBHo717FAQ\\nINTERNASIONAL, MODEREN, MANDIRI, UNGGUL\\nKSATRIAPETIRYour Future Starts Today!\\nApakah ITPLN menyediakan ASRAMA?\\nSaatiniITPLNbelummenyediakansaranaasramauntukmahasiswanya,namunadabanyakkosanyangtersediadisekitarkamu.Cekinfotentangkosanyangdekatdengankampusdilinkdibawahinihttps://infopmb.itpln.ac.id/daftar-kos-dekat-itpln-harga-terjangkau-murah/Jikapadalinktersebuttidakada,bisamenghubungitimkamiuntukinfotentangkosterbaru.https://wa.me/6281929652414\\nApakah jurusan IPS/Sosial/Bahasa bisa kuliah di kampus ITPLN ?\\nBerikut adalah daftar program studi/jurusan yang dapat dipilih untuk jurusan IPS/Bahasa:Teknik Informatika; Teknik Industri; Sistem Informasi; Bisnis Energi (Kewirausahaan); Teknik Sistem EnergiPenjelasan detilnya, dapat kamu cek di pada laman  https://infopmb.itpln.ac.id/program-studi-yang-bisa-dipilih-jurusan-ips/18INSTITUT TEKNOLOGI PLNYour Future Starts Today!\\nINTERNASIONAL, MODEREN, MANDIRI, UNGGULYour Future Starts Today!\\nPemasaran dan admisi ITPLNLantai 2 Mezzanine SelatanMenara PLN Jl. Lingkar Luar Barat Duri KosambiCengkareng, Jakarta Barat 11750Telp: 021-5440342 ext 2204@gabungitpln\\nInstitut Teknologi PLN']\n"
     ]
    }
   ],
   "source": [
    "def get_text_chunks(text):\n",
    "    text_splitter = RecursiveCharacterTextSplitter(chunk_size=10000, chunk_overlap=1000)\n",
    "    chunks = text_splitter.split_text(text)\n",
    "    return chunks\n",
    "\n",
    "chunk = get_text_chunks(a)\n",
    "print (chunk)\n"
   ]
  },
  {
   "cell_type": "code",
   "execution_count": 5,
   "metadata": {},
   "outputs": [
    {
     "data": {
      "text/plain": [
       "14188"
      ]
     },
     "execution_count": 5,
     "metadata": {},
     "output_type": "execute_result"
    }
   ],
   "source": [
    "len(a)"
   ]
  },
  {
   "cell_type": "code",
   "execution_count": 5,
   "metadata": {},
   "outputs": [
    {
     "ename": "GoogleGenerativeAIError",
     "evalue": "Error embedding content: 400 Request payload size exceeds the limit: 10000 bytes.",
     "output_type": "error",
     "traceback": [
      "\u001b[1;31m---------------------------------------------------------------------------\u001b[0m",
      "\u001b[1;31mInvalidArgument\u001b[0m                           Traceback (most recent call last)",
      "File \u001b[1;32mc:\\Users\\davin\\AppData\\Local\\Programs\\Python\\Python310\\lib\\site-packages\\langchain_google_genai\\embeddings.py:79\u001b[0m, in \u001b[0;36mGoogleGenerativeAIEmbeddings._embed\u001b[1;34m(self, texts, task_type, title)\u001b[0m\n\u001b[0;32m     78\u001b[0m \u001b[38;5;28;01mtry\u001b[39;00m:\n\u001b[1;32m---> 79\u001b[0m     result \u001b[38;5;241m=\u001b[39m \u001b[43mgenai\u001b[49m\u001b[38;5;241;43m.\u001b[39;49m\u001b[43membed_content\u001b[49m\u001b[43m(\u001b[49m\n\u001b[0;32m     80\u001b[0m \u001b[43m        \u001b[49m\u001b[43mmodel\u001b[49m\u001b[38;5;241;43m=\u001b[39;49m\u001b[38;5;28;43mself\u001b[39;49m\u001b[38;5;241;43m.\u001b[39;49m\u001b[43mmodel\u001b[49m\u001b[43m,\u001b[49m\n\u001b[0;32m     81\u001b[0m \u001b[43m        \u001b[49m\u001b[43mcontent\u001b[49m\u001b[38;5;241;43m=\u001b[39;49m\u001b[43mtexts\u001b[49m\u001b[43m,\u001b[49m\n\u001b[0;32m     82\u001b[0m \u001b[43m        \u001b[49m\u001b[43mtask_type\u001b[49m\u001b[38;5;241;43m=\u001b[39;49m\u001b[43mtask_type\u001b[49m\u001b[43m,\u001b[49m\n\u001b[0;32m     83\u001b[0m \u001b[43m        \u001b[49m\u001b[43mtitle\u001b[49m\u001b[38;5;241;43m=\u001b[39;49m\u001b[43mtitle\u001b[49m\u001b[43m,\u001b[49m\n\u001b[0;32m     84\u001b[0m \u001b[43m    \u001b[49m\u001b[43m)\u001b[49m\n\u001b[0;32m     85\u001b[0m \u001b[38;5;28;01mexcept\u001b[39;00m \u001b[38;5;167;01mException\u001b[39;00m \u001b[38;5;28;01mas\u001b[39;00m e:\n",
      "File \u001b[1;32mc:\\Users\\davin\\AppData\\Local\\Programs\\Python\\Python310\\lib\\site-packages\\google\\generativeai\\embedding.py:182\u001b[0m, in \u001b[0;36membed_content\u001b[1;34m(model, content, task_type, title, client, request_options)\u001b[0m\n\u001b[0;32m    179\u001b[0m embedding_request \u001b[38;5;241m=\u001b[39m glm\u001b[38;5;241m.\u001b[39mEmbedContentRequest(\n\u001b[0;32m    180\u001b[0m     model\u001b[38;5;241m=\u001b[39mmodel, content\u001b[38;5;241m=\u001b[39mcontent_types\u001b[38;5;241m.\u001b[39mto_content(content), task_type\u001b[38;5;241m=\u001b[39mtask_type, title\u001b[38;5;241m=\u001b[39mtitle\n\u001b[0;32m    181\u001b[0m )\n\u001b[1;32m--> 182\u001b[0m embedding_response \u001b[38;5;241m=\u001b[39m client\u001b[38;5;241m.\u001b[39membed_content(\n\u001b[0;32m    183\u001b[0m     embedding_request,\n\u001b[0;32m    184\u001b[0m     \u001b[38;5;241m*\u001b[39m\u001b[38;5;241m*\u001b[39mrequest_options,\n\u001b[0;32m    185\u001b[0m )\n\u001b[0;32m    186\u001b[0m embedding_dict \u001b[38;5;241m=\u001b[39m \u001b[38;5;28mtype\u001b[39m(embedding_response)\u001b[38;5;241m.\u001b[39mto_dict(embedding_response)\n",
      "File \u001b[1;32mc:\\Users\\davin\\AppData\\Local\\Programs\\Python\\Python310\\lib\\site-packages\\google\\ai\\generativelanguage_v1beta\\services\\generative_service\\client.py:968\u001b[0m, in \u001b[0;36mGenerativeServiceClient.embed_content\u001b[1;34m(self, request, model, content, retry, timeout, metadata)\u001b[0m\n\u001b[0;32m    967\u001b[0m \u001b[38;5;66;03m# Send the request.\u001b[39;00m\n\u001b[1;32m--> 968\u001b[0m response \u001b[38;5;241m=\u001b[39m \u001b[43mrpc\u001b[49m\u001b[43m(\u001b[49m\n\u001b[0;32m    969\u001b[0m \u001b[43m    \u001b[49m\u001b[43mrequest\u001b[49m\u001b[43m,\u001b[49m\n\u001b[0;32m    970\u001b[0m \u001b[43m    \u001b[49m\u001b[43mretry\u001b[49m\u001b[38;5;241;43m=\u001b[39;49m\u001b[43mretry\u001b[49m\u001b[43m,\u001b[49m\n\u001b[0;32m    971\u001b[0m \u001b[43m    \u001b[49m\u001b[43mtimeout\u001b[49m\u001b[38;5;241;43m=\u001b[39;49m\u001b[43mtimeout\u001b[49m\u001b[43m,\u001b[49m\n\u001b[0;32m    972\u001b[0m \u001b[43m    \u001b[49m\u001b[43mmetadata\u001b[49m\u001b[38;5;241;43m=\u001b[39;49m\u001b[43mmetadata\u001b[49m\u001b[43m,\u001b[49m\n\u001b[0;32m    973\u001b[0m \u001b[43m\u001b[49m\u001b[43m)\u001b[49m\n\u001b[0;32m    975\u001b[0m \u001b[38;5;66;03m# Done; return the response.\u001b[39;00m\n",
      "File \u001b[1;32mc:\\Users\\davin\\AppData\\Local\\Programs\\Python\\Python310\\lib\\site-packages\\google\\api_core\\gapic_v1\\method.py:131\u001b[0m, in \u001b[0;36m_GapicCallable.__call__\u001b[1;34m(self, timeout, retry, compression, *args, **kwargs)\u001b[0m\n\u001b[0;32m    129\u001b[0m     kwargs[\u001b[38;5;124m\"\u001b[39m\u001b[38;5;124mcompression\u001b[39m\u001b[38;5;124m\"\u001b[39m] \u001b[38;5;241m=\u001b[39m compression\n\u001b[1;32m--> 131\u001b[0m \u001b[38;5;28;01mreturn\u001b[39;00m wrapped_func(\u001b[38;5;241m*\u001b[39margs, \u001b[38;5;241m*\u001b[39m\u001b[38;5;241m*\u001b[39mkwargs)\n",
      "File \u001b[1;32mc:\\Users\\davin\\AppData\\Local\\Programs\\Python\\Python310\\lib\\site-packages\\google\\api_core\\retry\\retry_unary.py:293\u001b[0m, in \u001b[0;36mRetry.__call__.<locals>.retry_wrapped_func\u001b[1;34m(*args, **kwargs)\u001b[0m\n\u001b[0;32m    290\u001b[0m sleep_generator \u001b[38;5;241m=\u001b[39m exponential_sleep_generator(\n\u001b[0;32m    291\u001b[0m     \u001b[38;5;28mself\u001b[39m\u001b[38;5;241m.\u001b[39m_initial, \u001b[38;5;28mself\u001b[39m\u001b[38;5;241m.\u001b[39m_maximum, multiplier\u001b[38;5;241m=\u001b[39m\u001b[38;5;28mself\u001b[39m\u001b[38;5;241m.\u001b[39m_multiplier\n\u001b[0;32m    292\u001b[0m )\n\u001b[1;32m--> 293\u001b[0m \u001b[38;5;28;01mreturn\u001b[39;00m \u001b[43mretry_target\u001b[49m\u001b[43m(\u001b[49m\n\u001b[0;32m    294\u001b[0m \u001b[43m    \u001b[49m\u001b[43mtarget\u001b[49m\u001b[43m,\u001b[49m\n\u001b[0;32m    295\u001b[0m \u001b[43m    \u001b[49m\u001b[38;5;28;43mself\u001b[39;49m\u001b[38;5;241;43m.\u001b[39;49m\u001b[43m_predicate\u001b[49m\u001b[43m,\u001b[49m\n\u001b[0;32m    296\u001b[0m \u001b[43m    \u001b[49m\u001b[43msleep_generator\u001b[49m\u001b[43m,\u001b[49m\n\u001b[0;32m    297\u001b[0m \u001b[43m    \u001b[49m\u001b[43mtimeout\u001b[49m\u001b[38;5;241;43m=\u001b[39;49m\u001b[38;5;28;43mself\u001b[39;49m\u001b[38;5;241;43m.\u001b[39;49m\u001b[43m_timeout\u001b[49m\u001b[43m,\u001b[49m\n\u001b[0;32m    298\u001b[0m \u001b[43m    \u001b[49m\u001b[43mon_error\u001b[49m\u001b[38;5;241;43m=\u001b[39;49m\u001b[43mon_error\u001b[49m\u001b[43m,\u001b[49m\n\u001b[0;32m    299\u001b[0m \u001b[43m\u001b[49m\u001b[43m)\u001b[49m\n",
      "File \u001b[1;32mc:\\Users\\davin\\AppData\\Local\\Programs\\Python\\Python310\\lib\\site-packages\\google\\api_core\\retry\\retry_unary.py:153\u001b[0m, in \u001b[0;36mretry_target\u001b[1;34m(target, predicate, sleep_generator, timeout, on_error, exception_factory, **kwargs)\u001b[0m\n\u001b[0;32m    151\u001b[0m \u001b[38;5;28;01mexcept\u001b[39;00m \u001b[38;5;167;01mException\u001b[39;00m \u001b[38;5;28;01mas\u001b[39;00m exc:\n\u001b[0;32m    152\u001b[0m     \u001b[38;5;66;03m# defer to shared logic for handling errors\u001b[39;00m\n\u001b[1;32m--> 153\u001b[0m     \u001b[43m_retry_error_helper\u001b[49m\u001b[43m(\u001b[49m\n\u001b[0;32m    154\u001b[0m \u001b[43m        \u001b[49m\u001b[43mexc\u001b[49m\u001b[43m,\u001b[49m\n\u001b[0;32m    155\u001b[0m \u001b[43m        \u001b[49m\u001b[43mdeadline\u001b[49m\u001b[43m,\u001b[49m\n\u001b[0;32m    156\u001b[0m \u001b[43m        \u001b[49m\u001b[43msleep\u001b[49m\u001b[43m,\u001b[49m\n\u001b[0;32m    157\u001b[0m \u001b[43m        \u001b[49m\u001b[43merror_list\u001b[49m\u001b[43m,\u001b[49m\n\u001b[0;32m    158\u001b[0m \u001b[43m        \u001b[49m\u001b[43mpredicate\u001b[49m\u001b[43m,\u001b[49m\n\u001b[0;32m    159\u001b[0m \u001b[43m        \u001b[49m\u001b[43mon_error\u001b[49m\u001b[43m,\u001b[49m\n\u001b[0;32m    160\u001b[0m \u001b[43m        \u001b[49m\u001b[43mexception_factory\u001b[49m\u001b[43m,\u001b[49m\n\u001b[0;32m    161\u001b[0m \u001b[43m        \u001b[49m\u001b[43mtimeout\u001b[49m\u001b[43m,\u001b[49m\n\u001b[0;32m    162\u001b[0m \u001b[43m    \u001b[49m\u001b[43m)\u001b[49m\n\u001b[0;32m    163\u001b[0m     \u001b[38;5;66;03m# if exception not raised, sleep before next attempt\u001b[39;00m\n",
      "File \u001b[1;32mc:\\Users\\davin\\AppData\\Local\\Programs\\Python\\Python310\\lib\\site-packages\\google\\api_core\\retry\\retry_base.py:212\u001b[0m, in \u001b[0;36m_retry_error_helper\u001b[1;34m(exc, deadline, next_sleep, error_list, predicate_fn, on_error_fn, exc_factory_fn, original_timeout)\u001b[0m\n\u001b[0;32m    207\u001b[0m     final_exc, source_exc \u001b[38;5;241m=\u001b[39m exc_factory_fn(\n\u001b[0;32m    208\u001b[0m         error_list,\n\u001b[0;32m    209\u001b[0m         RetryFailureReason\u001b[38;5;241m.\u001b[39mNON_RETRYABLE_ERROR,\n\u001b[0;32m    210\u001b[0m         original_timeout,\n\u001b[0;32m    211\u001b[0m     )\n\u001b[1;32m--> 212\u001b[0m     \u001b[38;5;28;01mraise\u001b[39;00m final_exc \u001b[38;5;28;01mfrom\u001b[39;00m \u001b[38;5;21;01msource_exc\u001b[39;00m\n\u001b[0;32m    213\u001b[0m \u001b[38;5;28;01mif\u001b[39;00m on_error_fn \u001b[38;5;129;01mis\u001b[39;00m \u001b[38;5;129;01mnot\u001b[39;00m \u001b[38;5;28;01mNone\u001b[39;00m:\n",
      "File \u001b[1;32mc:\\Users\\davin\\AppData\\Local\\Programs\\Python\\Python310\\lib\\site-packages\\google\\api_core\\retry\\retry_unary.py:144\u001b[0m, in \u001b[0;36mretry_target\u001b[1;34m(target, predicate, sleep_generator, timeout, on_error, exception_factory, **kwargs)\u001b[0m\n\u001b[0;32m    143\u001b[0m \u001b[38;5;28;01mtry\u001b[39;00m:\n\u001b[1;32m--> 144\u001b[0m     result \u001b[38;5;241m=\u001b[39m \u001b[43mtarget\u001b[49m\u001b[43m(\u001b[49m\u001b[43m)\u001b[49m\n\u001b[0;32m    145\u001b[0m     \u001b[38;5;28;01mif\u001b[39;00m inspect\u001b[38;5;241m.\u001b[39misawaitable(result):\n",
      "File \u001b[1;32mc:\\Users\\davin\\AppData\\Local\\Programs\\Python\\Python310\\lib\\site-packages\\google\\api_core\\timeout.py:120\u001b[0m, in \u001b[0;36mTimeToDeadlineTimeout.__call__.<locals>.func_with_timeout\u001b[1;34m(*args, **kwargs)\u001b[0m\n\u001b[0;32m    118\u001b[0m     kwargs[\u001b[38;5;124m\"\u001b[39m\u001b[38;5;124mtimeout\u001b[39m\u001b[38;5;124m\"\u001b[39m] \u001b[38;5;241m=\u001b[39m \u001b[38;5;28mmax\u001b[39m(\u001b[38;5;241m0\u001b[39m, \u001b[38;5;28mself\u001b[39m\u001b[38;5;241m.\u001b[39m_timeout \u001b[38;5;241m-\u001b[39m time_since_first_attempt)\n\u001b[1;32m--> 120\u001b[0m \u001b[38;5;28;01mreturn\u001b[39;00m func(\u001b[38;5;241m*\u001b[39margs, \u001b[38;5;241m*\u001b[39m\u001b[38;5;241m*\u001b[39mkwargs)\n",
      "File \u001b[1;32mc:\\Users\\davin\\AppData\\Local\\Programs\\Python\\Python310\\lib\\site-packages\\google\\api_core\\grpc_helpers.py:78\u001b[0m, in \u001b[0;36m_wrap_unary_errors.<locals>.error_remapped_callable\u001b[1;34m(*args, **kwargs)\u001b[0m\n\u001b[0;32m     77\u001b[0m \u001b[38;5;28;01mexcept\u001b[39;00m grpc\u001b[38;5;241m.\u001b[39mRpcError \u001b[38;5;28;01mas\u001b[39;00m exc:\n\u001b[1;32m---> 78\u001b[0m     \u001b[38;5;28;01mraise\u001b[39;00m exceptions\u001b[38;5;241m.\u001b[39mfrom_grpc_error(exc) \u001b[38;5;28;01mfrom\u001b[39;00m \u001b[38;5;21;01mexc\u001b[39;00m\n",
      "\u001b[1;31mInvalidArgument\u001b[0m: 400 Request payload size exceeds the limit: 10000 bytes.",
      "\nThe above exception was the direct cause of the following exception:\n",
      "\u001b[1;31mGoogleGenerativeAIError\u001b[0m                   Traceback (most recent call last)",
      "Cell \u001b[1;32mIn[5], line 6\u001b[0m\n\u001b[0;32m      3\u001b[0m     vector_store \u001b[38;5;241m=\u001b[39m FAISS\u001b[38;5;241m.\u001b[39mfrom_texts(text_chunks, embedding\u001b[38;5;241m=\u001b[39membeddings)\n\u001b[0;32m      4\u001b[0m     vector_store\u001b[38;5;241m.\u001b[39msave_local(\u001b[38;5;124m\"\u001b[39m\u001b[38;5;124mfaiss_index\u001b[39m\u001b[38;5;124m\"\u001b[39m)\n\u001b[1;32m----> 6\u001b[0m vstore \u001b[38;5;241m=\u001b[39m \u001b[43mget_vector_store\u001b[49m\u001b[43m(\u001b[49m\u001b[43ma\u001b[49m\u001b[43m)\u001b[49m\u001b[38;5;241m.\u001b[39msample(\u001b[38;5;241m100\u001b[39m)\n\u001b[0;32m      7\u001b[0m \u001b[38;5;28mprint\u001b[39m (vstore)\n",
      "Cell \u001b[1;32mIn[5], line 3\u001b[0m, in \u001b[0;36mget_vector_store\u001b[1;34m(text_chunks)\u001b[0m\n\u001b[0;32m      1\u001b[0m \u001b[38;5;28;01mdef\u001b[39;00m \u001b[38;5;21mget_vector_store\u001b[39m(text_chunks):\n\u001b[0;32m      2\u001b[0m     embeddings \u001b[38;5;241m=\u001b[39m GoogleGenerativeAIEmbeddings(model\u001b[38;5;241m=\u001b[39m\u001b[38;5;124m\"\u001b[39m\u001b[38;5;124mmodels/embedding-001\u001b[39m\u001b[38;5;124m\"\u001b[39m)\n\u001b[1;32m----> 3\u001b[0m     vector_store \u001b[38;5;241m=\u001b[39m \u001b[43mFAISS\u001b[49m\u001b[38;5;241;43m.\u001b[39;49m\u001b[43mfrom_texts\u001b[49m\u001b[43m(\u001b[49m\u001b[43mtext_chunks\u001b[49m\u001b[43m,\u001b[49m\u001b[43m \u001b[49m\u001b[43membedding\u001b[49m\u001b[38;5;241;43m=\u001b[39;49m\u001b[43membeddings\u001b[49m\u001b[43m)\u001b[49m\n\u001b[0;32m      4\u001b[0m     vector_store\u001b[38;5;241m.\u001b[39msave_local(\u001b[38;5;124m\"\u001b[39m\u001b[38;5;124mfaiss_index\u001b[39m\u001b[38;5;124m\"\u001b[39m)\n",
      "File \u001b[1;32mc:\\Users\\davin\\AppData\\Local\\Programs\\Python\\Python310\\lib\\site-packages\\langchain_community\\vectorstores\\faiss.py:930\u001b[0m, in \u001b[0;36mFAISS.from_texts\u001b[1;34m(cls, texts, embedding, metadatas, ids, **kwargs)\u001b[0m\n\u001b[0;32m    903\u001b[0m \u001b[38;5;129m@classmethod\u001b[39m\n\u001b[0;32m    904\u001b[0m \u001b[38;5;28;01mdef\u001b[39;00m \u001b[38;5;21mfrom_texts\u001b[39m(\n\u001b[0;32m    905\u001b[0m     \u001b[38;5;28mcls\u001b[39m,\n\u001b[1;32m   (...)\u001b[0m\n\u001b[0;32m    910\u001b[0m     \u001b[38;5;241m*\u001b[39m\u001b[38;5;241m*\u001b[39mkwargs: Any,\n\u001b[0;32m    911\u001b[0m ) \u001b[38;5;241m-\u001b[39m\u001b[38;5;241m>\u001b[39m FAISS:\n\u001b[0;32m    912\u001b[0m \u001b[38;5;250m    \u001b[39m\u001b[38;5;124;03m\"\"\"Construct FAISS wrapper from raw documents.\u001b[39;00m\n\u001b[0;32m    913\u001b[0m \n\u001b[0;32m    914\u001b[0m \u001b[38;5;124;03m    This is a user friendly interface that:\u001b[39;00m\n\u001b[1;32m   (...)\u001b[0m\n\u001b[0;32m    928\u001b[0m \u001b[38;5;124;03m            faiss = FAISS.from_texts(texts, embeddings)\u001b[39;00m\n\u001b[0;32m    929\u001b[0m \u001b[38;5;124;03m    \"\"\"\u001b[39;00m\n\u001b[1;32m--> 930\u001b[0m     embeddings \u001b[38;5;241m=\u001b[39m \u001b[43membedding\u001b[49m\u001b[38;5;241;43m.\u001b[39;49m\u001b[43membed_documents\u001b[49m\u001b[43m(\u001b[49m\u001b[43mtexts\u001b[49m\u001b[43m)\u001b[49m\n\u001b[0;32m    931\u001b[0m     \u001b[38;5;28;01mreturn\u001b[39;00m \u001b[38;5;28mcls\u001b[39m\u001b[38;5;241m.\u001b[39m__from(\n\u001b[0;32m    932\u001b[0m         texts,\n\u001b[0;32m    933\u001b[0m         embeddings,\n\u001b[1;32m   (...)\u001b[0m\n\u001b[0;32m    937\u001b[0m         \u001b[38;5;241m*\u001b[39m\u001b[38;5;241m*\u001b[39mkwargs,\n\u001b[0;32m    938\u001b[0m     )\n",
      "File \u001b[1;32mc:\\Users\\davin\\AppData\\Local\\Programs\\Python\\Python310\\lib\\site-packages\\langchain_google_genai\\embeddings.py:103\u001b[0m, in \u001b[0;36mGoogleGenerativeAIEmbeddings.embed_documents\u001b[1;34m(self, texts, batch_size)\u001b[0m\n\u001b[0;32m     92\u001b[0m \u001b[38;5;250m\u001b[39m\u001b[38;5;124;03m\"\"\"Embed a list of strings. Vertex AI currently\u001b[39;00m\n\u001b[0;32m     93\u001b[0m \u001b[38;5;124;03msets a max batch size of 5 strings.\u001b[39;00m\n\u001b[0;32m     94\u001b[0m \n\u001b[1;32m   (...)\u001b[0m\n\u001b[0;32m    100\u001b[0m \u001b[38;5;124;03m    List of embeddings, one for each text.\u001b[39;00m\n\u001b[0;32m    101\u001b[0m \u001b[38;5;124;03m\"\"\"\u001b[39;00m\n\u001b[0;32m    102\u001b[0m task_type \u001b[38;5;241m=\u001b[39m \u001b[38;5;28mself\u001b[39m\u001b[38;5;241m.\u001b[39mtask_type \u001b[38;5;129;01mor\u001b[39;00m \u001b[38;5;124m\"\u001b[39m\u001b[38;5;124mretrieval_document\u001b[39m\u001b[38;5;124m\"\u001b[39m\n\u001b[1;32m--> 103\u001b[0m \u001b[38;5;28;01mreturn\u001b[39;00m \u001b[38;5;28;43mself\u001b[39;49m\u001b[38;5;241;43m.\u001b[39;49m\u001b[43m_embed\u001b[49m\u001b[43m(\u001b[49m\u001b[43mtexts\u001b[49m\u001b[43m,\u001b[49m\u001b[43m \u001b[49m\u001b[43mtask_type\u001b[49m\u001b[38;5;241;43m=\u001b[39;49m\u001b[43mtask_type\u001b[49m\u001b[43m)\u001b[49m\n",
      "File \u001b[1;32mc:\\Users\\davin\\AppData\\Local\\Programs\\Python\\Python310\\lib\\site-packages\\langchain_google_genai\\embeddings.py:86\u001b[0m, in \u001b[0;36mGoogleGenerativeAIEmbeddings._embed\u001b[1;34m(self, texts, task_type, title)\u001b[0m\n\u001b[0;32m     79\u001b[0m     result \u001b[38;5;241m=\u001b[39m genai\u001b[38;5;241m.\u001b[39membed_content(\n\u001b[0;32m     80\u001b[0m         model\u001b[38;5;241m=\u001b[39m\u001b[38;5;28mself\u001b[39m\u001b[38;5;241m.\u001b[39mmodel,\n\u001b[0;32m     81\u001b[0m         content\u001b[38;5;241m=\u001b[39mtexts,\n\u001b[0;32m     82\u001b[0m         task_type\u001b[38;5;241m=\u001b[39mtask_type,\n\u001b[0;32m     83\u001b[0m         title\u001b[38;5;241m=\u001b[39mtitle,\n\u001b[0;32m     84\u001b[0m     )\n\u001b[0;32m     85\u001b[0m \u001b[38;5;28;01mexcept\u001b[39;00m \u001b[38;5;167;01mException\u001b[39;00m \u001b[38;5;28;01mas\u001b[39;00m e:\n\u001b[1;32m---> 86\u001b[0m     \u001b[38;5;28;01mraise\u001b[39;00m GoogleGenerativeAIError(\u001b[38;5;124mf\u001b[39m\u001b[38;5;124m\"\u001b[39m\u001b[38;5;124mError embedding content: \u001b[39m\u001b[38;5;132;01m{\u001b[39;00me\u001b[38;5;132;01m}\u001b[39;00m\u001b[38;5;124m\"\u001b[39m) \u001b[38;5;28;01mfrom\u001b[39;00m \u001b[38;5;21;01me\u001b[39;00m\n\u001b[0;32m     87\u001b[0m \u001b[38;5;28;01mreturn\u001b[39;00m result[\u001b[38;5;124m\"\u001b[39m\u001b[38;5;124membedding\u001b[39m\u001b[38;5;124m\"\u001b[39m]\n",
      "\u001b[1;31mGoogleGenerativeAIError\u001b[0m: Error embedding content: 400 Request payload size exceeds the limit: 10000 bytes."
     ]
    }
   ],
   "source": [
    "def get_vector_store(text_chunks):\n",
    "    embeddings = GoogleGenerativeAIEmbeddings(model=\"models/embedding-001\")\n",
    "    vector_store = FAISS.from_texts(text_chunks, embedding=embeddings)\n",
    "    vector_store.save_local(\"faiss_index\")\n",
    "\n",
    "vstore = get_vector_store(a).sample(100)\n",
    "print (vstore)"
   ]
  },
  {
   "cell_type": "code",
   "execution_count": null,
   "metadata": {},
   "outputs": [],
   "source": []
  }
 ],
 "metadata": {
  "kernelspec": {
   "display_name": "Python 3",
   "language": "python",
   "name": "python3"
  },
  "language_info": {
   "codemirror_mode": {
    "name": "ipython",
    "version": 3
   },
   "file_extension": ".py",
   "mimetype": "text/x-python",
   "name": "python",
   "nbconvert_exporter": "python",
   "pygments_lexer": "ipython3",
   "version": "3.10.0"
  }
 },
 "nbformat": 4,
 "nbformat_minor": 2
}
